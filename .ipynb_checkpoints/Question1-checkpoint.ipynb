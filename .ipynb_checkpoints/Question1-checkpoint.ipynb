{
 "cells": [
  {
   "cell_type": "code",
   "execution_count": 1,
   "metadata": {},
   "outputs": [],
   "source": [
    "import pandas as pd\n",
    "import numpy as np\n",
    "import matplotlib.pyplot as plt\n",
    "from scipy import stats"
   ]
  },
  {
   "cell_type": "code",
   "execution_count": 6,
   "metadata": {},
   "outputs": [],
   "source": [
    "# set file path for csv\n",
    "final_df = \"final_df.csv\"\n",
    "# file_2 = \"../Resources/imdb_rating_data.csv\""
   ]
  },
  {
   "cell_type": "code",
   "execution_count": 7,
   "metadata": {},
   "outputs": [
    {
     "data": {
      "text/html": [
       "<div>\n",
       "<style scoped>\n",
       "    .dataframe tbody tr th:only-of-type {\n",
       "        vertical-align: middle;\n",
       "    }\n",
       "\n",
       "    .dataframe tbody tr th {\n",
       "        vertical-align: top;\n",
       "    }\n",
       "\n",
       "    .dataframe thead th {\n",
       "        text-align: right;\n",
       "    }\n",
       "</style>\n",
       "<table border=\"1\" class=\"dataframe\">\n",
       "  <thead>\n",
       "    <tr style=\"text-align: right;\">\n",
       "      <th></th>\n",
       "      <th>Unnamed: 0</th>\n",
       "      <th>tconst</th>\n",
       "      <th>primaryTitle</th>\n",
       "      <th>startYear</th>\n",
       "      <th>runtimeMinutes</th>\n",
       "      <th>genres</th>\n",
       "      <th>averageRating</th>\n",
       "      <th>numVotes</th>\n",
       "    </tr>\n",
       "  </thead>\n",
       "  <tbody>\n",
       "    <tr>\n",
       "      <td>0</td>\n",
       "      <td>9</td>\n",
       "      <td>tt0000009</td>\n",
       "      <td>Miss Jerry</td>\n",
       "      <td>1894</td>\n",
       "      <td>45</td>\n",
       "      <td>Romance</td>\n",
       "      <td>5.3</td>\n",
       "      <td>89</td>\n",
       "    </tr>\n",
       "    <tr>\n",
       "      <td>1</td>\n",
       "      <td>412</td>\n",
       "      <td>tt0000574</td>\n",
       "      <td>The Story of the Kelly Gang</td>\n",
       "      <td>1906</td>\n",
       "      <td>70</td>\n",
       "      <td>Biography,Crime,Drama</td>\n",
       "      <td>6.1</td>\n",
       "      <td>562</td>\n",
       "    </tr>\n",
       "    <tr>\n",
       "      <td>2</td>\n",
       "      <td>481</td>\n",
       "      <td>tt0000679</td>\n",
       "      <td>The Fairylogue and Radio-Plays</td>\n",
       "      <td>1908</td>\n",
       "      <td>120</td>\n",
       "      <td>Adventure,Fantasy</td>\n",
       "      <td>4.8</td>\n",
       "      <td>34</td>\n",
       "    </tr>\n",
       "    <tr>\n",
       "      <td>3</td>\n",
       "      <td>781</td>\n",
       "      <td>tt0001184</td>\n",
       "      <td>Don Juan de Serrallonga</td>\n",
       "      <td>1910</td>\n",
       "      <td>58</td>\n",
       "      <td>Adventure,Drama</td>\n",
       "      <td>3.1</td>\n",
       "      <td>11</td>\n",
       "    </tr>\n",
       "    <tr>\n",
       "      <td>4</td>\n",
       "      <td>813</td>\n",
       "      <td>tt0001258</td>\n",
       "      <td>The White Slave Trade</td>\n",
       "      <td>1910</td>\n",
       "      <td>45</td>\n",
       "      <td>Drama</td>\n",
       "      <td>5.7</td>\n",
       "      <td>79</td>\n",
       "    </tr>\n",
       "  </tbody>\n",
       "</table>\n",
       "</div>"
      ],
      "text/plain": [
       "   Unnamed: 0     tconst                    primaryTitle  startYear  \\\n",
       "0           9  tt0000009                      Miss Jerry       1894   \n",
       "1         412  tt0000574     The Story of the Kelly Gang       1906   \n",
       "2         481  tt0000679  The Fairylogue and Radio-Plays       1908   \n",
       "3         781  tt0001184         Don Juan de Serrallonga       1910   \n",
       "4         813  tt0001258           The White Slave Trade       1910   \n",
       "\n",
       "   runtimeMinutes                 genres  averageRating  numVotes  \n",
       "0              45                Romance            5.3        89  \n",
       "1              70  Biography,Crime,Drama            6.1       562  \n",
       "2             120      Adventure,Fantasy            4.8        34  \n",
       "3              58        Adventure,Drama            3.1        11  \n",
       "4              45                  Drama            5.7        79  "
      ]
     },
     "execution_count": 7,
     "metadata": {},
     "output_type": "execute_result"
    }
   ],
   "source": [
    "# read in csv file to notebook\n",
    "final_df = pd.read_csv(final_df, low_memory = False)\n",
    "final_df.head()"
   ]
  },
  {
   "cell_type": "code",
   "execution_count": null,
   "metadata": {},
   "outputs": [],
   "source": [
    "# Split up data into groups based on year released\n",
    "year_group = final_df.groupby('startYear')\n",
    "year_group.head()"
   ]
  },
  {
   "cell_type": "code",
   "execution_count": null,
   "metadata": {},
   "outputs": [],
   "source": [
    "years = final_df['startYear'].unique()\n",
    "years"
   ]
  },
  {
   "cell_type": "code",
   "execution_count": null,
   "metadata": {},
   "outputs": [],
   "source": [
    "# # Find number of movies in each year\n",
    "no_released = year_group['primaryTitle'].count()\n",
    "no_released"
   ]
  },
  {
   "cell_type": "code",
   "execution_count": null,
   "metadata": {},
   "outputs": [],
   "source": [
    "# # Find sum of ratings for each year\n",
    "rating_sum = year_group['averageRating'].sum()\n",
    "rating_sum"
   ]
  },
  {
   "cell_type": "code",
   "execution_count": null,
   "metadata": {},
   "outputs": [],
   "source": [
    "# # # # Find average rating of all movies in each year\n",
    "avg_by_year = rating_sum / no_released\n",
    "avg_by_year"
   ]
  },
  {
   "cell_type": "code",
   "execution_count": null,
   "metadata": {},
   "outputs": [],
   "source": [
    "# Create scatter plot to compare average ratings by year\n",
    "x_values = years\n",
    "y_values = avg_by_year\n",
    "plt.scatter(x_values, y_values)\n",
    "plt.xlabel('Years')\n",
    "plt.ylabel('Average Rating')\n",
    "plt.show()"
   ]
  },
  {
   "cell_type": "code",
   "execution_count": null,
   "metadata": {},
   "outputs": [],
   "source": [
    "# # Create equation of line to calculate predicted movie rating based on year\n",
    "# slope, int, r, p, std_err = stats.linregress(x_values, y_values)\n",
    "# # Plot the linear model on top of scatter plot \n",
    "# fit = slope * x_values + int\n",
    "# x_values = years\n",
    "# y_values = avg_by_year\n",
    "# plt.scatter(x_values,y_values)\n",
    "# plt.plot(x_values,fit,\"--\")\n",
    "# plt.xlabel('Year')\n",
    "# plt.ylabel('Average Rating')\n",
    "# plt.show()"
   ]
  },
  {
   "cell_type": "code",
   "execution_count": null,
   "metadata": {},
   "outputs": [],
   "source": [
    "# Create scatter plot to compare average ratings by year\n",
    "x_values = no_released\n",
    "y_values = avg_by_year\n",
    "plt.scatter(x_values, y_values)\n",
    "plt.xlabel('Average Rating')\n",
    "plt.ylabel('# of Movies Released')\n",
    "plt.show()"
   ]
  },
  {
   "cell_type": "code",
   "execution_count": null,
   "metadata": {},
   "outputs": [],
   "source": [
    "# Create equation of line to calculate predicted violent crime rate\n",
    "no_slope, no_int, no_r, no_p, no_std_err = stats.linregress(x_values, y_values)\n",
    "# Plot the linear model on top of scatter plot \n",
    "no_fit = no_slope * x_values + no_int\n",
    "x_values = no_released\n",
    "y_values = avg_by_year\n",
    "plt.scatter(x_values,y_values)\n",
    "plt.plot(x_values,no_fit,\"--\")\n",
    "plt.xlabel('# of Movies Released')\n",
    "plt.ylabel('Average Rating')\n",
    "plt.show()"
   ]
  },
  {
   "cell_type": "code",
   "execution_count": null,
   "metadata": {},
   "outputs": [],
   "source": []
  }
 ],
 "metadata": {
  "kernelspec": {
   "display_name": "Python 3",
   "language": "python",
   "name": "python3"
  },
  "language_info": {
   "codemirror_mode": {
    "name": "ipython",
    "version": 3
   },
   "file_extension": ".py",
   "mimetype": "text/x-python",
   "name": "python",
   "nbconvert_exporter": "python",
   "pygments_lexer": "ipython3",
   "version": "3.7.4"
  }
 },
 "nbformat": 4,
 "nbformat_minor": 2
}
