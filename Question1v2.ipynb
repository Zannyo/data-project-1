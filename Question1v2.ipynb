{
 "cells": [
  {
   "cell_type": "code",
   "execution_count": 1,
   "metadata": {},
   "outputs": [],
   "source": [
    "import pandas as pd\n",
    "import numpy as np\n",
    "import matplotlib.pyplot as plt\n",
    "from scipy import stats"
   ]
  },
  {
   "cell_type": "code",
   "execution_count": 2,
   "metadata": {},
   "outputs": [],
   "source": [
    "# set file path for csv\n",
    "final_df = \"ProjectGuidelines/data-project-1/final_df.csv\"\n",
    "# file_2 = \"../Resources/imdb_rating_data.csv\""
   ]
  },
  {
   "cell_type": "code",
   "execution_count": 3,
   "metadata": {},
   "outputs": [
    {
     "data": {
      "text/html": [
       "<div>\n",
       "<style scoped>\n",
       "    .dataframe tbody tr th:only-of-type {\n",
       "        vertical-align: middle;\n",
       "    }\n",
       "\n",
       "    .dataframe tbody tr th {\n",
       "        vertical-align: top;\n",
       "    }\n",
       "\n",
       "    .dataframe thead th {\n",
       "        text-align: right;\n",
       "    }\n",
       "</style>\n",
       "<table border=\"1\" class=\"dataframe\">\n",
       "  <thead>\n",
       "    <tr style=\"text-align: right;\">\n",
       "      <th></th>\n",
       "      <th>Unnamed: 0</th>\n",
       "      <th>tconst</th>\n",
       "      <th>primaryTitle</th>\n",
       "      <th>startYear</th>\n",
       "      <th>runtimeMinutes</th>\n",
       "      <th>genres</th>\n",
       "      <th>averageRating</th>\n",
       "      <th>numVotes</th>\n",
       "    </tr>\n",
       "  </thead>\n",
       "  <tbody>\n",
       "    <tr>\n",
       "      <td>0</td>\n",
       "      <td>9</td>\n",
       "      <td>tt0000009</td>\n",
       "      <td>Miss Jerry</td>\n",
       "      <td>1894</td>\n",
       "      <td>45</td>\n",
       "      <td>Romance</td>\n",
       "      <td>5.3</td>\n",
       "      <td>89</td>\n",
       "    </tr>\n",
       "    <tr>\n",
       "      <td>1</td>\n",
       "      <td>412</td>\n",
       "      <td>tt0000574</td>\n",
       "      <td>The Story of the Kelly Gang</td>\n",
       "      <td>1906</td>\n",
       "      <td>70</td>\n",
       "      <td>Biography,Crime,Drama</td>\n",
       "      <td>6.1</td>\n",
       "      <td>562</td>\n",
       "    </tr>\n",
       "    <tr>\n",
       "      <td>2</td>\n",
       "      <td>481</td>\n",
       "      <td>tt0000679</td>\n",
       "      <td>The Fairylogue and Radio-Plays</td>\n",
       "      <td>1908</td>\n",
       "      <td>120</td>\n",
       "      <td>Adventure,Fantasy</td>\n",
       "      <td>4.8</td>\n",
       "      <td>34</td>\n",
       "    </tr>\n",
       "    <tr>\n",
       "      <td>3</td>\n",
       "      <td>781</td>\n",
       "      <td>tt0001184</td>\n",
       "      <td>Don Juan de Serrallonga</td>\n",
       "      <td>1910</td>\n",
       "      <td>58</td>\n",
       "      <td>Adventure,Drama</td>\n",
       "      <td>3.1</td>\n",
       "      <td>11</td>\n",
       "    </tr>\n",
       "    <tr>\n",
       "      <td>4</td>\n",
       "      <td>813</td>\n",
       "      <td>tt0001258</td>\n",
       "      <td>The White Slave Trade</td>\n",
       "      <td>1910</td>\n",
       "      <td>45</td>\n",
       "      <td>Drama</td>\n",
       "      <td>5.7</td>\n",
       "      <td>79</td>\n",
       "    </tr>\n",
       "  </tbody>\n",
       "</table>\n",
       "</div>"
      ],
      "text/plain": [
       "   Unnamed: 0     tconst                    primaryTitle  startYear  \\\n",
       "0           9  tt0000009                      Miss Jerry       1894   \n",
       "1         412  tt0000574     The Story of the Kelly Gang       1906   \n",
       "2         481  tt0000679  The Fairylogue and Radio-Plays       1908   \n",
       "3         781  tt0001184         Don Juan de Serrallonga       1910   \n",
       "4         813  tt0001258           The White Slave Trade       1910   \n",
       "\n",
       "   runtimeMinutes                 genres  averageRating  numVotes  \n",
       "0              45                Romance            5.3        89  \n",
       "1              70  Biography,Crime,Drama            6.1       562  \n",
       "2             120      Adventure,Fantasy            4.8        34  \n",
       "3              58        Adventure,Drama            3.1        11  \n",
       "4              45                  Drama            5.7        79  "
      ]
     },
     "execution_count": 3,
     "metadata": {},
     "output_type": "execute_result"
    }
   ],
   "source": [
    "# read in csv file to notebook\n",
    "final_df = pd.read_csv(final_df, low_memory = False)\n",
    "final_df.head()"
   ]
  },
  {
   "cell_type": "code",
   "execution_count": 4,
   "metadata": {},
   "outputs": [
    {
     "data": {
      "text/html": [
       "<div>\n",
       "<style scoped>\n",
       "    .dataframe tbody tr th:only-of-type {\n",
       "        vertical-align: middle;\n",
       "    }\n",
       "\n",
       "    .dataframe tbody tr th {\n",
       "        vertical-align: top;\n",
       "    }\n",
       "\n",
       "    .dataframe thead th {\n",
       "        text-align: right;\n",
       "    }\n",
       "</style>\n",
       "<table border=\"1\" class=\"dataframe\">\n",
       "  <thead>\n",
       "    <tr style=\"text-align: right;\">\n",
       "      <th></th>\n",
       "      <th>Unnamed: 0</th>\n",
       "      <th>tconst</th>\n",
       "      <th>primaryTitle</th>\n",
       "      <th>startYear</th>\n",
       "      <th>runtimeMinutes</th>\n",
       "      <th>genres</th>\n",
       "      <th>averageRating</th>\n",
       "      <th>numVotes</th>\n",
       "    </tr>\n",
       "  </thead>\n",
       "  <tbody>\n",
       "    <tr>\n",
       "      <td>0</td>\n",
       "      <td>9</td>\n",
       "      <td>tt0000009</td>\n",
       "      <td>Miss Jerry</td>\n",
       "      <td>1894</td>\n",
       "      <td>45</td>\n",
       "      <td>Romance</td>\n",
       "      <td>5.3</td>\n",
       "      <td>89</td>\n",
       "    </tr>\n",
       "    <tr>\n",
       "      <td>1</td>\n",
       "      <td>412</td>\n",
       "      <td>tt0000574</td>\n",
       "      <td>The Story of the Kelly Gang</td>\n",
       "      <td>1906</td>\n",
       "      <td>70</td>\n",
       "      <td>Biography,Crime,Drama</td>\n",
       "      <td>6.1</td>\n",
       "      <td>562</td>\n",
       "    </tr>\n",
       "    <tr>\n",
       "      <td>2</td>\n",
       "      <td>481</td>\n",
       "      <td>tt0000679</td>\n",
       "      <td>The Fairylogue and Radio-Plays</td>\n",
       "      <td>1908</td>\n",
       "      <td>120</td>\n",
       "      <td>Adventure,Fantasy</td>\n",
       "      <td>4.8</td>\n",
       "      <td>34</td>\n",
       "    </tr>\n",
       "    <tr>\n",
       "      <td>3</td>\n",
       "      <td>781</td>\n",
       "      <td>tt0001184</td>\n",
       "      <td>Don Juan de Serrallonga</td>\n",
       "      <td>1910</td>\n",
       "      <td>58</td>\n",
       "      <td>Adventure,Drama</td>\n",
       "      <td>3.1</td>\n",
       "      <td>11</td>\n",
       "    </tr>\n",
       "    <tr>\n",
       "      <td>4</td>\n",
       "      <td>813</td>\n",
       "      <td>tt0001258</td>\n",
       "      <td>The White Slave Trade</td>\n",
       "      <td>1910</td>\n",
       "      <td>45</td>\n",
       "      <td>Drama</td>\n",
       "      <td>5.7</td>\n",
       "      <td>79</td>\n",
       "    </tr>\n",
       "    <tr>\n",
       "      <td>...</td>\n",
       "      <td>...</td>\n",
       "      <td>...</td>\n",
       "      <td>...</td>\n",
       "      <td>...</td>\n",
       "      <td>...</td>\n",
       "      <td>...</td>\n",
       "      <td>...</td>\n",
       "      <td>...</td>\n",
       "    </tr>\n",
       "    <tr>\n",
       "      <td>69278</td>\n",
       "      <td>161891</td>\n",
       "      <td>tt0233985</td>\n",
       "      <td>Jeffries-Johnson World's Championship Boxing C...</td>\n",
       "      <td>1910</td>\n",
       "      <td>100</td>\n",
       "      <td>Documentary,Sport</td>\n",
       "      <td>5.7</td>\n",
       "      <td>86</td>\n",
       "    </tr>\n",
       "    <tr>\n",
       "      <td>76923</td>\n",
       "      <td>190624</td>\n",
       "      <td>tt0289146</td>\n",
       "      <td>Darkness</td>\n",
       "      <td>2009</td>\n",
       "      <td>100</td>\n",
       "      <td>Horror,Mystery,Thriller</td>\n",
       "      <td>4.6</td>\n",
       "      <td>159</td>\n",
       "    </tr>\n",
       "    <tr>\n",
       "      <td>77266</td>\n",
       "      <td>191913</td>\n",
       "      <td>tt0291338</td>\n",
       "      <td>May Day Parade</td>\n",
       "      <td>1900</td>\n",
       "      <td>66</td>\n",
       "      <td>News</td>\n",
       "      <td>6.4</td>\n",
       "      <td>8</td>\n",
       "    </tr>\n",
       "    <tr>\n",
       "      <td>78831</td>\n",
       "      <td>199255</td>\n",
       "      <td>tt0304876</td>\n",
       "      <td>Live Wire</td>\n",
       "      <td>2009</td>\n",
       "      <td>81</td>\n",
       "      <td>Comedy</td>\n",
       "      <td>5.4</td>\n",
       "      <td>79</td>\n",
       "    </tr>\n",
       "    <tr>\n",
       "      <td>79603</td>\n",
       "      <td>202843</td>\n",
       "      <td>tt0311698</td>\n",
       "      <td>Railed</td>\n",
       "      <td>2009</td>\n",
       "      <td>78</td>\n",
       "      <td>Comedy,Drama</td>\n",
       "      <td>7.7</td>\n",
       "      <td>35</td>\n",
       "    </tr>\n",
       "  </tbody>\n",
       "</table>\n",
       "<p>512 rows × 8 columns</p>\n",
       "</div>"
      ],
      "text/plain": [
       "       Unnamed: 0     tconst  \\\n",
       "0               9  tt0000009   \n",
       "1             412  tt0000574   \n",
       "2             481  tt0000679   \n",
       "3             781  tt0001184   \n",
       "4             813  tt0001258   \n",
       "...           ...        ...   \n",
       "69278      161891  tt0233985   \n",
       "76923      190624  tt0289146   \n",
       "77266      191913  tt0291338   \n",
       "78831      199255  tt0304876   \n",
       "79603      202843  tt0311698   \n",
       "\n",
       "                                            primaryTitle  startYear  \\\n",
       "0                                             Miss Jerry       1894   \n",
       "1                            The Story of the Kelly Gang       1906   \n",
       "2                         The Fairylogue and Radio-Plays       1908   \n",
       "3                                Don Juan de Serrallonga       1910   \n",
       "4                                  The White Slave Trade       1910   \n",
       "...                                                  ...        ...   \n",
       "69278  Jeffries-Johnson World's Championship Boxing C...       1910   \n",
       "76923                                           Darkness       2009   \n",
       "77266                                     May Day Parade       1900   \n",
       "78831                                          Live Wire       2009   \n",
       "79603                                             Railed       2009   \n",
       "\n",
       "       runtimeMinutes                   genres  averageRating  numVotes  \n",
       "0                  45                  Romance            5.3        89  \n",
       "1                  70    Biography,Crime,Drama            6.1       562  \n",
       "2                 120        Adventure,Fantasy            4.8        34  \n",
       "3                  58          Adventure,Drama            3.1        11  \n",
       "4                  45                    Drama            5.7        79  \n",
       "...               ...                      ...            ...       ...  \n",
       "69278             100        Documentary,Sport            5.7        86  \n",
       "76923             100  Horror,Mystery,Thriller            4.6       159  \n",
       "77266              66                     News            6.4         8  \n",
       "78831              81                   Comedy            5.4        79  \n",
       "79603              78             Comedy,Drama            7.7        35  \n",
       "\n",
       "[512 rows x 8 columns]"
      ]
     },
     "execution_count": 4,
     "metadata": {},
     "output_type": "execute_result"
    }
   ],
   "source": [
    "# Split up data into groups based on year released\n",
    "year_group = final_df.groupby('startYear')\n",
    "year_group.head()"
   ]
  },
  {
   "cell_type": "code",
   "execution_count": 5,
   "metadata": {},
   "outputs": [
    {
     "data": {
      "text/plain": [
       "array([1894, 1906, 1908, 1910, 1909, 1911, 1912, 1919, 1913, 1914, 1915,\n",
       "       1936, 1925, 1916, 1917, 1918, 1920, 1921, 1924, 1923, 1922, 1927,\n",
       "       1929, 1926, 1935, 1928, 1942, 1933, 1930, 1932, 1931, 1937, 1950,\n",
       "       1938, 1951, 1939, 1934, 1946, 1940, 1944, 1947, 1970, 1957, 1943,\n",
       "       1941, 1945, 1952, 1948, 2001, 1953, 1954, 1983, 1949, 1973, 1962,\n",
       "       1958, 1955, 1956, 1961, 1964, 1960, 1959, 1967, 1963, 1968, 1965,\n",
       "       1971, 1969, 1966, 1990, 1972, 1979, 1987, 1981, 1978, 2010, 1974,\n",
       "       1989, 1976, 1977, 1975, 1986, 1985, 1984, 1995, 1982, 1988, 1980,\n",
       "       1991, 1993, 1992, 2005, 1998, 1999, 1994, 1997, 2000, 1996, 2004,\n",
       "       2002, 2006, 2008, 2007, 2003, 2009, 1904, 1899, 1900], dtype=int64)"
      ]
     },
     "execution_count": 5,
     "metadata": {},
     "output_type": "execute_result"
    }
   ],
   "source": [
    "years = final_df['startYear'].unique()\n",
    "years"
   ]
  },
  {
   "cell_type": "code",
   "execution_count": 1,
   "metadata": {},
   "outputs": [
    {
     "ename": "NameError",
     "evalue": "name 'final_df' is not defined",
     "output_type": "error",
     "traceback": [
      "\u001b[1;31m---------------------------------------------------------------------------\u001b[0m",
      "\u001b[1;31mNameError\u001b[0m                                 Traceback (most recent call last)",
      "\u001b[1;32m<ipython-input-1-3ba2e4cf5919>\u001b[0m in \u001b[0;36m<module>\u001b[1;34m\u001b[0m\n\u001b[1;32m----> 1\u001b[1;33m \u001b[0mfinal_df\u001b[0m\u001b[1;33m[\u001b[0m\u001b[1;34m\"startYear\"\u001b[0m\u001b[1;33m]\u001b[0m\u001b[1;33m.\u001b[0m\u001b[0mdescribe\u001b[0m\u001b[1;33m(\u001b[0m\u001b[1;33m)\u001b[0m\u001b[1;33m\u001b[0m\u001b[1;33m\u001b[0m\u001b[0m\n\u001b[0m",
      "\u001b[1;31mNameError\u001b[0m: name 'final_df' is not defined"
     ]
    }
   ],
   "source": []
  },
  {
   "cell_type": "code",
   "execution_count": 6,
   "metadata": {},
   "outputs": [
    {
     "data": {
      "text/plain": [
       "startYear\n",
       "1894       1\n",
       "1899       1\n",
       "1900       1\n",
       "1904       1\n",
       "1906       1\n",
       "        ... \n",
       "2006    3108\n",
       "2007    1622\n",
       "2008     684\n",
       "2009     264\n",
       "2010     134\n",
       "Name: primaryTitle, Length: 108, dtype: int64"
      ]
     },
     "execution_count": 6,
     "metadata": {},
     "output_type": "execute_result"
    }
   ],
   "source": [
    "# # Find number of movies in each year\n",
    "no_released = year_group['primaryTitle'].count()\n",
    "no_released"
   ]
  },
  {
   "cell_type": "code",
   "execution_count": 7,
   "metadata": {},
   "outputs": [
    {
     "data": {
      "text/plain": [
       "startYear\n",
       "1894        5.3\n",
       "1899        3.8\n",
       "1900        6.4\n",
       "1904        5.3\n",
       "1906        6.1\n",
       "         ...   \n",
       "2006    19036.8\n",
       "2007     9665.4\n",
       "2008     3955.4\n",
       "2009     1535.2\n",
       "2010      783.5\n",
       "Name: averageRating, Length: 108, dtype: float64"
      ]
     },
     "execution_count": 7,
     "metadata": {},
     "output_type": "execute_result"
    }
   ],
   "source": [
    "# # Find sum of ratings for each year\n",
    "rating_sum = year_group['averageRating'].sum()\n",
    "rating_sum"
   ]
  },
  {
   "cell_type": "code",
   "execution_count": 8,
   "metadata": {},
   "outputs": [
    {
     "data": {
      "text/plain": [
       "startYear\n",
       "1894    5.300000\n",
       "1899    3.800000\n",
       "1900    6.400000\n",
       "1904    5.300000\n",
       "1906    6.100000\n",
       "          ...   \n",
       "2006    6.125097\n",
       "2007    5.958940\n",
       "2008    5.782749\n",
       "2009    5.815152\n",
       "2010    5.847015\n",
       "Length: 108, dtype: float64"
      ]
     },
     "execution_count": 8,
     "metadata": {},
     "output_type": "execute_result"
    }
   ],
   "source": [
    "# # # # Find average rating of all movies in each year\n",
    "avg_by_year = rating_sum / no_released\n",
    "avg_by_year"
   ]
  },
  {
   "cell_type": "code",
   "execution_count": 17,
   "metadata": {},
   "outputs": [
    {
     "data": {
      "image/png": "[encoded data removed]",
      "text/plain": [
       "<Figure size 432x288 with 1 Axes>"
      ]
     },
     "metadata": {
      "needs_background": "light"
     },
     "output_type": "display_data"
    }
   ],
   "source": [
    "# Create scatter plot to compare average ratings by year\n",
    "x_values = years\n",
    "y_values = avg_by_year\n",
    "plt.scatter(x_values, y_values)\n",
    "plt.xlabel('Years')\n",
    "plt.ylabel('Average Rating')\n",
    "plt.show()"
   ]
  },
  {
   "cell_type": "code",
   "execution_count": 18,
   "metadata": {},
   "outputs": [],
   "source": [
    "# # Create equation of line to calculate predicted movie rating based on year\n",
    "# slope, int, r, p, std_err = stats.linregress(x_values, y_values)\n",
    "# # Plot the linear model on top of scatter plot \n",
    "# fit = slope * x_values + int\n",
    "# x_values = years\n",
    "# y_values = avg_by_year\n",
    "# plt.scatter(x_values,y_values)\n",
    "# plt.plot(x_values,fit,\"--\")\n",
    "# plt.xlabel('Year')\n",
    "# plt.ylabel('Average Rating')\n",
    "# plt.show()"
   ]
  },
  {
   "cell_type": "code",
   "execution_count": 19,
   "metadata": {},
   "outputs": [
    {
     "data": {
      "image/png": "[encoded data removed]",
      "text/plain": [
       "<Figure size 432x288 with 1 Axes>"
      ]
     },
     "metadata": {
      "needs_background": "light"
     },
     "output_type": "display_data"
    }
   ],
   "source": [
    "# Create scatter plot to compare average ratings by year\n",
    "x_values = no_released\n",
    "y_values = avg_by_year\n",
    "plt.scatter(x_values, y_values)\n",
    "plt.xlabel('Average Rating')\n",
    "plt.ylabel('# of Movies Released')\n",
    "plt.show()"
   ]
  },
  {
   "cell_type": "code",
   "execution_count": 21,
   "metadata": {},
   "outputs": [
    {
     "data": {
      "image/png": "[encoded data removed]",
      "text/plain": [
       "<Figure size 432x288 with 1 Axes>"
      ]
     },
     "metadata": {
      "needs_background": "light"
     },
     "output_type": "display_data"
    }
   ],
   "source": [
    "# Create equation of line to calculate predicted violent crime rate\n",
    "no_slope, no_int, no_r, no_p, no_std_err = stats.linregress(x_values, y_values)\n",
    "# Plot the linear model on top of scatter plot \n",
    "no_fit = no_slope * x_values + no_int\n",
    "x_values = no_released\n",
    "y_values = avg_by_year\n",
    "plt.scatter(x_values,y_values)\n",
    "plt.plot(x_values,fit,\"--\")\n",
    "plt.xlabel('# of Movies Released')\n",
    "plt.ylabel('Average Rating')\n",
    "plt.show()"
   ]
  }
 ],
 "metadata": {
  "kernelspec": {
   "display_name": "Python 3",
   "language": "python",
   "name": "python3"
  },
  "language_info": {
   "codemirror_mode": {
    "name": "ipython",
    "version": 3
   },
   "file_extension": ".py",
   "mimetype": "text/x-python",
   "name": "python",
   "nbconvert_exporter": "python",
   "pygments_lexer": "ipython3",
   "version": "3.7.4"
  }
 },
 "nbformat": 4,
 "nbformat_minor": 2
}
